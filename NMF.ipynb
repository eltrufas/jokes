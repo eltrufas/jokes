{
 "cells": [
  {
   "cell_type": "code",
   "execution_count": 1,
   "metadata": {},
   "outputs": [],
   "source": [
    "import pandas as pd\n",
    "\n",
    "joke_df = pd.read_pickle('tokenized_joke.p')"
   ]
  },
  {
   "cell_type": "code",
   "execution_count": 2,
   "metadata": {},
   "outputs": [],
   "source": [
    "from sklearn.decomposition import NMF\n",
    "from sklearn.feature_extraction.text import TfidfVectorizer\n",
    "\n",
    "def print_top_words(model, feature_names, n_top_words):\n",
    "    for topic_idx, topic in enumerate(model.components_):\n",
    "        message = \"Topic #%d: \" % topic_idx\n",
    "        message += \" \".join([feature_names[i]\n",
    "                             for i in topic.argsort()[:-n_top_words - 1:-1]])\n",
    "        print(message)\n",
    "    print()\n",
    "    \n",
    "tfidf_vectorizer = TfidfVectorizer(max_df=0.95, min_df=2,\n",
    "                                   max_features=3000)\n",
    "\n",
    "tfidf = tfidf_vectorizer.fit_transform(joke_df.tokenized_joke)"
   ]
  },
  {
   "cell_type": "code",
   "execution_count": 3,
   "metadata": {
    "collapsed": true
   },
   "outputs": [],
   "source": [
    "nmf = NMF(n_components=10, random_state=1,\n",
    "          alpha=.1, l1_ratio=.5).fit(tfidf)"
   ]
  },
  {
   "cell_type": "code",
   "execution_count": 4,
   "metadata": {},
   "outputs": [
    {
     "name": "stdout",
     "output_type": "stream",
     "text": [
      "Topic #0: the one said say he go get ask day look like time guy would back it want two if know\n",
      "Topic #1: yo momma fat mama stupid ugli dumb mamma poor got old went like made jump your put get scale step\n",
      "Topic #2: knock who door there open let joke bless ya know owl me cow da doorbel cri cold no go answer\n",
      "Topic #3: blond brunett she how the joke whi redhead say hear hair tell smart ask so they head look keep dumb\n",
      "Topic #4: you redneck might your know ever think ugli phrase deciph car famili can hous joke stupid kid wed name get\n",
      "Topic #5: what call differ say dog leg black an get eleph favorit repres cross fish two name kind common lawyer sheep\n",
      "Topic #6: how lightbulb mani take screw chang bulb light one none hold two tell men know turn three dark onli they\n",
      "Topic #7: whi becaus cross chicken road to get eleph side drive alway duck would big know wear they go it peopl\n",
      "Topic #8: man the woman bartend bar ask walk repli say old said wife young he drink drunk doctor sir beer men\n",
      "Topic #9: boy littl teacher mother father johnni girl said dad son ask mom the school repli class mommi babi student kid\n",
      "\n"
     ]
    }
   ],
   "source": [
    "tfidf_feature_names = tfidf_vectorizer.get_feature_names()\n",
    "print_top_words(nmf, tfidf_feature_names, 20)"
   ]
  },
  {
   "cell_type": "code",
   "execution_count": null,
   "metadata": {
    "collapsed": true
   },
   "outputs": [],
   "source": []
  }
 ],
 "metadata": {
  "kernelspec": {
   "display_name": "Python 3",
   "language": "python",
   "name": "python3"
  },
  "language_info": {
   "codemirror_mode": {
    "name": "ipython",
    "version": 3
   },
   "file_extension": ".py",
   "mimetype": "text/x-python",
   "name": "python",
   "nbconvert_exporter": "python",
   "pygments_lexer": "ipython3",
   "version": "3.6.3"
  }
 },
 "nbformat": 4,
 "nbformat_minor": 2
}
