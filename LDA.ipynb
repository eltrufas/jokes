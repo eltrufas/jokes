{
 "cells": [
  {
   "cell_type": "code",
   "execution_count": 1,
   "metadata": {},
   "outputs": [],
   "source": [
    "from bs4 import BeautifulSoup\n",
    "import pandas as pd\n",
    "import nltk\n",
    "\n",
    "joke_df = pd.read_pickle('tokenized_joke.p')"
   ]
  },
  {
   "cell_type": "code",
   "execution_count": 2,
   "metadata": {},
   "outputs": [],
   "source": [
    "from sklearn.feature_extraction.text import TfidfVectorizer, CountVectorizer\n",
    "from sklearn.decomposition import LatentDirichletAllocation\n",
    "\n",
    "def print_top_words(model, feature_names, n_top_words):\n",
    "    for topic_idx, topic in enumerate(model.components_):\n",
    "        message = \"Topic #%d: \" % topic_idx\n",
    "        message += \" \".join([feature_names[i]\n",
    "                             for i in topic.argsort()[:-n_top_words - 1:-1]])\n",
    "        print(message)\n",
    "    print()\n",
    "\n",
    "\n",
    "cv = CountVectorizer(max_df=0.95, min_df=2,\n",
    "                     max_features=1000)\n",
    "\n",
    "tf_matrix = cv.fit_transform(joke_df.tokenized_joke)\n",
    "\n",
    "lda = LatentDirichletAllocation(n_components=10, max_iter=5,\n",
    "                                learning_method='online',\n",
    "                                learning_offset=50.,\n",
    "                                random_state=0)\n",
    "lda_matrix = lda.fit_transform(tf_matrix)"
   ]
  },
  {
   "cell_type": "code",
   "execution_count": 3,
   "metadata": {},
   "outputs": [
    {
     "name": "stdout",
     "output_type": "stream",
     "text": [
      "Topic #0: joke what hear differ they peopl did get one side it best cross new fire world heard know line make\n",
      "Topic #1: girl boy name dog black if would you mother babi white know tell kind famili friend mean love fli brother\n",
      "Topic #2: man the he put head see say back look get run job jump around pull hand come farmer right open\n",
      "Topic #3: what call kid chicken fish tree hole get an reddit child someon bad movi good bet use probabl french word\n",
      "Topic #4: bar walk bartend say littl the knock big teacher priest girlfriend who beer school jesu ask johnni drunk john class\n",
      "Topic #5: take how car mani my never one wife much door it day life get got found light chang water make\n",
      "Topic #6: the say man one guy two old first ask walk three year second sit repli drink eat goe men ladi\n",
      "Topic #7: whi like becaus son dad women father mom person alway duck peni pirat get coffe cut it beat hitler nut\n",
      "Topic #8: said the ask go he look time day come say so well she woman repli get see back like tell\n",
      "Topic #9: doctor how develop husband blond ball mexican leg dead find you red make hate http caus presid no com comput\n",
      "\n"
     ]
    }
   ],
   "source": [
    "tf_feature_names = cv.get_feature_names()\n",
    "print_top_words(lda, tf_feature_names, 20)"
   ]
  },
  {
   "cell_type": "code",
   "execution_count": null,
   "metadata": {},
   "outputs": [],
   "source": []
  },
  {
   "cell_type": "code",
   "execution_count": null,
   "metadata": {
    "collapsed": true
   },
   "outputs": [],
   "source": []
  }
 ],
 "metadata": {
  "kernelspec": {
   "display_name": "Python 3",
   "language": "python",
   "name": "python3"
  },
  "language_info": {
   "codemirror_mode": {
    "name": "ipython",
    "version": 3
   },
   "file_extension": ".py",
   "mimetype": "text/x-python",
   "name": "python",
   "nbconvert_exporter": "python",
   "pygments_lexer": "ipython3",
   "version": "3.6.3"
  }
 },
 "nbformat": 4,
 "nbformat_minor": 2
}
