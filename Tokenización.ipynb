{
 "cells": [
  {
   "cell_type": "code",
   "execution_count": 6,
   "metadata": {},
   "outputs": [
    {
     "data": {
      "text/html": [
       "<div>\n",
       "<style>\n",
       "    .dataframe thead tr:only-child th {\n",
       "        text-align: right;\n",
       "    }\n",
       "\n",
       "    .dataframe thead th {\n",
       "        text-align: left;\n",
       "    }\n",
       "\n",
       "    .dataframe tbody tr th {\n",
       "        vertical-align: top;\n",
       "    }\n",
       "</style>\n",
       "<table border=\"1\" class=\"dataframe\">\n",
       "  <thead>\n",
       "    <tr style=\"text-align: right;\">\n",
       "      <th></th>\n",
       "      <th>body</th>\n",
       "      <th>category</th>\n",
       "      <th>title</th>\n",
       "    </tr>\n",
       "  </thead>\n",
       "  <tbody>\n",
       "    <tr>\n",
       "      <th>0</th>\n",
       "      <td>What do you call a cow with no legs?\\r\\n\\r\\nGr...</td>\n",
       "      <td>Animal</td>\n",
       "      <td>Cow With No Legs</td>\n",
       "    </tr>\n",
       "    <tr>\n",
       "      <th>1</th>\n",
       "      <td>What do you call a cow jumping over a barbed w...</td>\n",
       "      <td>Animal</td>\n",
       "      <td>Jumping Cow</td>\n",
       "    </tr>\n",
       "    <tr>\n",
       "      <th>2</th>\n",
       "      <td>What's black and white and red all over?\\r\\n\\r...</td>\n",
       "      <td>Other / Misc</td>\n",
       "      <td>Black, White and Red</td>\n",
       "    </tr>\n",
       "    <tr>\n",
       "      <th>3</th>\n",
       "      <td>So, this guy walks into a bar.\\r\\n\\r\\nAnd says...</td>\n",
       "      <td>Bar</td>\n",
       "      <td>Guy in a Bar</td>\n",
       "    </tr>\n",
       "    <tr>\n",
       "      <th>4</th>\n",
       "      <td>If the opposite of pro is con, isn't the oppos...</td>\n",
       "      <td>One Liners</td>\n",
       "      <td>Progress</td>\n",
       "    </tr>\n",
       "  </tbody>\n",
       "</table>\n",
       "</div>"
      ],
      "text/plain": [
       "                                                body      category  \\\n",
       "0  What do you call a cow with no legs?\\r\\n\\r\\nGr...        Animal   \n",
       "1  What do you call a cow jumping over a barbed w...        Animal   \n",
       "2  What's black and white and red all over?\\r\\n\\r...  Other / Misc   \n",
       "3  So, this guy walks into a bar.\\r\\n\\r\\nAnd says...           Bar   \n",
       "4  If the opposite of pro is con, isn't the oppos...    One Liners   \n",
       "\n",
       "                  title  \n",
       "0      Cow With No Legs  \n",
       "1           Jumping Cow  \n",
       "2  Black, White and Red  \n",
       "3          Guy in a Bar  \n",
       "4              Progress  "
      ]
     },
     "execution_count": 6,
     "metadata": {},
     "output_type": "execute_result"
    }
   ],
   "source": [
    "import pandas as pd\n",
    "from nltk.tokenize import RegexpTokenizer\n",
    "from nltk.corpus import stopwords\n",
    "from nltk.stem.porter import PorterStemmer\n",
    "from profanity import profanity\n",
    "\n",
    "stopwords = stopwords.words('english')\n",
    "\n",
    "df = pd.read_json('jokes/wocka.json')\n",
    "del df['id']\n",
    "\n",
    "df.head()"
   ]
  },
  {
   "cell_type": "code",
   "execution_count": 7,
   "metadata": {},
   "outputs": [
    {
     "name": "stdout",
     "output_type": "stream",
     "text": [
      "10019\n",
      "9064\n"
     ]
    }
   ],
   "source": [
    "tokenizer = RegexpTokenizer(r'\\w+')\n",
    "p_stemmer = PorterStemmer()\n",
    "\n",
    "tokenized_jokes = pd.Series(index=df.index)\n",
    "\n",
    "to_drop = []\n",
    "for index, joke in df.iterrows():\n",
    "    full_text = joke.title + ' ' + joke.body\n",
    "    full_text = tokenizer.tokenize(full_text)\n",
    "    if any(word in profanity for word in full_text):\n",
    "        to_drop.append(index)\n",
    "    full_text = [p_stemmer.stem(word) for word in full_text \n",
    "                 if word not in stopwords]\n",
    "    \n",
    "    tokenized_jokes[index] = ' '.join(full_text).upper()\n",
    "\n",
    "token_df = df.assign(tokenized_joke=tokenized_jokes)\n",
    "    \n",
    "print(token_df.shape[0])\n",
    "token_df = token_df.drop(to_drop)\n",
    "print(token_df.shape[0])"
   ]
  },
  {
   "cell_type": "code",
   "execution_count": 8,
   "metadata": {},
   "outputs": [
    {
     "data": {
      "text/html": [
       "<div>\n",
       "<style>\n",
       "    .dataframe thead tr:only-child th {\n",
       "        text-align: right;\n",
       "    }\n",
       "\n",
       "    .dataframe thead th {\n",
       "        text-align: left;\n",
       "    }\n",
       "\n",
       "    .dataframe tbody tr th {\n",
       "        vertical-align: top;\n",
       "    }\n",
       "</style>\n",
       "<table border=\"1\" class=\"dataframe\">\n",
       "  <thead>\n",
       "    <tr style=\"text-align: right;\">\n",
       "      <th></th>\n",
       "      <th>body</th>\n",
       "      <th>category</th>\n",
       "      <th>title</th>\n",
       "      <th>tokenized_joke</th>\n",
       "    </tr>\n",
       "  </thead>\n",
       "  <tbody>\n",
       "    <tr>\n",
       "      <th>0</th>\n",
       "      <td>What do you call a cow with no legs?\\r\\n\\r\\nGr...</td>\n",
       "      <td>Animal</td>\n",
       "      <td>Cow With No Legs</td>\n",
       "      <td>COW WITH NO LEG WHAT CALL COW LEG GROUND BEEF</td>\n",
       "    </tr>\n",
       "    <tr>\n",
       "      <th>1</th>\n",
       "      <td>What do you call a cow jumping over a barbed w...</td>\n",
       "      <td>Animal</td>\n",
       "      <td>Jumping Cow</td>\n",
       "      <td>JUMP COW WHAT CALL COW JUMP BARB WIRE FENC UTT...</td>\n",
       "    </tr>\n",
       "    <tr>\n",
       "      <th>2</th>\n",
       "      <td>What's black and white and red all over?\\r\\n\\r...</td>\n",
       "      <td>Other / Misc</td>\n",
       "      <td>Black, White and Red</td>\n",
       "      <td>BLACK WHITE RED WHAT BLACK WHITE RED A NEWSPAP</td>\n",
       "    </tr>\n",
       "    <tr>\n",
       "      <th>3</th>\n",
       "      <td>So, this guy walks into a bar.\\r\\n\\r\\nAnd says...</td>\n",
       "      <td>Bar</td>\n",
       "      <td>Guy in a Bar</td>\n",
       "      <td>GUY BAR SO GUY WALK BAR AND SAY OUCH</td>\n",
       "    </tr>\n",
       "    <tr>\n",
       "      <th>4</th>\n",
       "      <td>If the opposite of pro is con, isn't the oppos...</td>\n",
       "      <td>One Liners</td>\n",
       "      <td>Progress</td>\n",
       "      <td>PROGRESS IF OPPOSIT PRO CON OPPOSIT PROGRESS C...</td>\n",
       "    </tr>\n",
       "  </tbody>\n",
       "</table>\n",
       "</div>"
      ],
      "text/plain": [
       "                                                body      category  \\\n",
       "0  What do you call a cow with no legs?\\r\\n\\r\\nGr...        Animal   \n",
       "1  What do you call a cow jumping over a barbed w...        Animal   \n",
       "2  What's black and white and red all over?\\r\\n\\r...  Other / Misc   \n",
       "3  So, this guy walks into a bar.\\r\\n\\r\\nAnd says...           Bar   \n",
       "4  If the opposite of pro is con, isn't the oppos...    One Liners   \n",
       "\n",
       "                  title                                     tokenized_joke  \n",
       "0      Cow With No Legs      COW WITH NO LEG WHAT CALL COW LEG GROUND BEEF  \n",
       "1           Jumping Cow  JUMP COW WHAT CALL COW JUMP BARB WIRE FENC UTT...  \n",
       "2  Black, White and Red     BLACK WHITE RED WHAT BLACK WHITE RED A NEWSPAP  \n",
       "3          Guy in a Bar               GUY BAR SO GUY WALK BAR AND SAY OUCH  \n",
       "4              Progress  PROGRESS IF OPPOSIT PRO CON OPPOSIT PROGRESS C...  "
      ]
     },
     "execution_count": 8,
     "metadata": {},
     "output_type": "execute_result"
    }
   ],
   "source": [
    "import pickle\n",
    "\n",
    "with open('tokenized_joke.p', 'wb') as fp:\n",
    "    pickle.dump(token_df, fp)\n",
    "\n",
    "token_df.head()"
   ]
  },
  {
   "cell_type": "code",
   "execution_count": null,
   "metadata": {
    "collapsed": true
   },
   "outputs": [],
   "source": []
  }
 ],
 "metadata": {
  "kernelspec": {
   "display_name": "Python 3",
   "language": "python",
   "name": "python3"
  },
  "language_info": {
   "codemirror_mode": {
    "name": "ipython",
    "version": 3
   },
   "file_extension": ".py",
   "mimetype": "text/x-python",
   "name": "python",
   "nbconvert_exporter": "python",
   "pygments_lexer": "ipython3",
   "version": "3.6.3"
  }
 },
 "nbformat": 4,
 "nbformat_minor": 2
}
