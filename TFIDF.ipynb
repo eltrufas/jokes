{
 "cells": [
  {
   "cell_type": "code",
   "execution_count": 6,
   "metadata": {},
   "outputs": [],
   "source": [
    "from bs4 import BeautifulSoup\n",
    "import pandas as pd\n",
    "import nltk\n",
    "\n",
    "joke_df = pd.read_pickle('tokenized_joke.p')"
   ]
  },
  {
   "cell_type": "code",
   "execution_count": 7,
   "metadata": {},
   "outputs": [],
   "source": [
    "from sklearn.feature_extraction.text import CountVectorizer, TfidfVectorizer\n",
    "cv = CountVectorizer()\n",
    "term_counts = cv.fit_transform(joke_df.tokenized_joke)"
   ]
  },
  {
   "cell_type": "code",
   "execution_count": 8,
   "metadata": {},
   "outputs": [
    {
     "name": "stdout",
     "output_type": "stream",
     "text": [
      "Se consideraron 26108 palabras\n",
      "Se eliminaron 27175 palabras\n"
     ]
    }
   ],
   "source": [
    "tfidfv = TfidfVectorizer(min_df=2, max_df=0.95)\n",
    "tfidf_matrix = tfidfv.fit_transform(joke_df.tokenized_joke)\n",
    "tfidfv.vocabulary_\n",
    "idf = tfidfv.idf_\n",
    "print(\"Se consideraron {} palabras\".format(len(tfidfv.vocabulary_)))\n",
    "print(\"Se eliminaron {} palabras\".format(len(tfidfv.stop_words_)))"
   ]
  },
  {
   "cell_type": "code",
   "execution_count": null,
   "metadata": {
    "collapsed": true
   },
   "outputs": [],
   "source": []
  }
 ],
 "metadata": {
  "kernelspec": {
   "display_name": "Python 3",
   "language": "python",
   "name": "python3"
  },
  "language_info": {
   "codemirror_mode": {
    "name": "ipython",
    "version": 3
   },
   "file_extension": ".py",
   "mimetype": "text/x-python",
   "name": "python",
   "nbconvert_exporter": "python",
   "pygments_lexer": "ipython3",
   "version": "3.6.3"
  }
 },
 "nbformat": 4,
 "nbformat_minor": 2
}
